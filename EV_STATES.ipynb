{
 "cells": [
  {
   "cell_type": "code",
   "execution_count": 1,
   "id": "bf885057",
   "metadata": {},
   "outputs": [],
   "source": [
    "import numpy as np\n",
    "import pandas as pd\n",
    "import matplotlib.pyplot as plt\n",
    "import seaborn as sns\n",
    "%matplotlib inline\n",
    "\n",
    "import warnings\n",
    "warnings.filterwarnings('ignore')"
   ]
  },
  {
   "cell_type": "code",
   "execution_count": 3,
   "id": "81738f70",
   "metadata": {},
   "outputs": [],
   "source": [
    "df = pd.read_csv('EV_Sales_states.csv')"
   ]
  },
  {
   "cell_type": "code",
   "execution_count": 4,
   "id": "d9325575",
   "metadata": {},
   "outputs": [
    {
     "data": {
      "text/html": [
       "<div>\n",
       "<style scoped>\n",
       "    .dataframe tbody tr th:only-of-type {\n",
       "        vertical-align: middle;\n",
       "    }\n",
       "\n",
       "    .dataframe tbody tr th {\n",
       "        vertical-align: top;\n",
       "    }\n",
       "\n",
       "    .dataframe thead th {\n",
       "        text-align: right;\n",
       "    }\n",
       "</style>\n",
       "<table border=\"1\" class=\"dataframe\">\n",
       "  <thead>\n",
       "    <tr style=\"text-align: right;\">\n",
       "      <th></th>\n",
       "      <th>Sl. No.</th>\n",
       "      <th>State/UT</th>\n",
       "      <th>Total Number Of Sales</th>\n",
       "      <th>No. of charging Stations</th>\n",
       "    </tr>\n",
       "  </thead>\n",
       "  <tbody>\n",
       "    <tr>\n",
       "      <th>0</th>\n",
       "      <td>1</td>\n",
       "      <td>Jammu Kashmir</td>\n",
       "      <td>437</td>\n",
       "      <td>25</td>\n",
       "    </tr>\n",
       "    <tr>\n",
       "      <th>1</th>\n",
       "      <td>2</td>\n",
       "      <td>Himachal Pradesh</td>\n",
       "      <td>241</td>\n",
       "      <td>10</td>\n",
       "    </tr>\n",
       "    <tr>\n",
       "      <th>2</th>\n",
       "      <td>3</td>\n",
       "      <td>Punjab</td>\n",
       "      <td>764</td>\n",
       "      <td>0</td>\n",
       "    </tr>\n",
       "    <tr>\n",
       "      <th>3</th>\n",
       "      <td>4</td>\n",
       "      <td>Chandigarh</td>\n",
       "      <td>48</td>\n",
       "      <td>70</td>\n",
       "    </tr>\n",
       "    <tr>\n",
       "      <th>4</th>\n",
       "      <td>5</td>\n",
       "      <td>Uttarakhand</td>\n",
       "      <td>1057</td>\n",
       "      <td>10</td>\n",
       "    </tr>\n",
       "  </tbody>\n",
       "</table>\n",
       "</div>"
      ],
      "text/plain": [
       "   Sl. No.          State/UT  Total Number Of Sales  No. of charging Stations\n",
       "0        1     Jammu Kashmir                    437                        25\n",
       "1        2  Himachal Pradesh                    241                        10\n",
       "2        3            Punjab                    764                         0\n",
       "3        4        Chandigarh                     48                        70\n",
       "4        5       Uttarakhand                   1057                        10"
      ]
     },
     "execution_count": 4,
     "metadata": {},
     "output_type": "execute_result"
    }
   ],
   "source": [
    "df.head()"
   ]
  },
  {
   "cell_type": "code",
   "execution_count": 6,
   "id": "a9529f38",
   "metadata": {},
   "outputs": [
    {
     "data": {
      "text/html": [
       "<div>\n",
       "<style scoped>\n",
       "    .dataframe tbody tr th:only-of-type {\n",
       "        vertical-align: middle;\n",
       "    }\n",
       "\n",
       "    .dataframe tbody tr th {\n",
       "        vertical-align: top;\n",
       "    }\n",
       "\n",
       "    .dataframe thead th {\n",
       "        text-align: right;\n",
       "    }\n",
       "</style>\n",
       "<table border=\"1\" class=\"dataframe\">\n",
       "  <thead>\n",
       "    <tr style=\"text-align: right;\">\n",
       "      <th></th>\n",
       "      <th>Sl. No.</th>\n",
       "      <th>Total Number Of Sales</th>\n",
       "      <th>No. of charging Stations</th>\n",
       "    </tr>\n",
       "  </thead>\n",
       "  <tbody>\n",
       "    <tr>\n",
       "      <th>count</th>\n",
       "      <td>36.000000</td>\n",
       "      <td>36.000000</td>\n",
       "      <td>36.000000</td>\n",
       "    </tr>\n",
       "    <tr>\n",
       "      <th>mean</th>\n",
       "      <td>18.500000</td>\n",
       "      <td>2434.972222</td>\n",
       "      <td>79.916667</td>\n",
       "    </tr>\n",
       "    <tr>\n",
       "      <th>std</th>\n",
       "      <td>10.535654</td>\n",
       "      <td>4163.703396</td>\n",
       "      <td>102.743335</td>\n",
       "    </tr>\n",
       "    <tr>\n",
       "      <th>min</th>\n",
       "      <td>1.000000</td>\n",
       "      <td>0.000000</td>\n",
       "      <td>0.000000</td>\n",
       "    </tr>\n",
       "    <tr>\n",
       "      <th>25%</th>\n",
       "      <td>9.750000</td>\n",
       "      <td>42.750000</td>\n",
       "      <td>0.000000</td>\n",
       "    </tr>\n",
       "    <tr>\n",
       "      <th>50%</th>\n",
       "      <td>18.500000</td>\n",
       "      <td>767.500000</td>\n",
       "      <td>25.000000</td>\n",
       "    </tr>\n",
       "    <tr>\n",
       "      <th>75%</th>\n",
       "      <td>27.250000</td>\n",
       "      <td>2699.500000</td>\n",
       "      <td>148.750000</td>\n",
       "    </tr>\n",
       "    <tr>\n",
       "      <th>max</th>\n",
       "      <td>36.000000</td>\n",
       "      <td>19270.000000</td>\n",
       "      <td>317.000000</td>\n",
       "    </tr>\n",
       "  </tbody>\n",
       "</table>\n",
       "</div>"
      ],
      "text/plain": [
       "         Sl. No.  Total Number Of Sales  No. of charging Stations\n",
       "count  36.000000              36.000000                 36.000000\n",
       "mean   18.500000            2434.972222                 79.916667\n",
       "std    10.535654            4163.703396                102.743335\n",
       "min     1.000000               0.000000                  0.000000\n",
       "25%     9.750000              42.750000                  0.000000\n",
       "50%    18.500000             767.500000                 25.000000\n",
       "75%    27.250000            2699.500000                148.750000\n",
       "max    36.000000           19270.000000                317.000000"
      ]
     },
     "execution_count": 6,
     "metadata": {},
     "output_type": "execute_result"
    }
   ],
   "source": [
    "df.describe()"
   ]
  },
  {
   "cell_type": "code",
   "execution_count": 7,
   "id": "8b0a1672",
   "metadata": {},
   "outputs": [
    {
     "data": {
      "text/plain": [
       "(36, 4)"
      ]
     },
     "execution_count": 7,
     "metadata": {},
     "output_type": "execute_result"
    }
   ],
   "source": [
    "df.shape"
   ]
  },
  {
   "cell_type": "code",
   "execution_count": 8,
   "id": "66999a79",
   "metadata": {},
   "outputs": [
    {
     "data": {
      "text/plain": [
       "Sl. No.                      int64\n",
       "State/UT                    object\n",
       "Total Number Of Sales        int64\n",
       "No. of charging Stations     int64\n",
       "dtype: object"
      ]
     },
     "execution_count": 8,
     "metadata": {},
     "output_type": "execute_result"
    }
   ],
   "source": [
    "df.dtypes"
   ]
  },
  {
   "cell_type": "code",
   "execution_count": 9,
   "id": "7a8af135",
   "metadata": {},
   "outputs": [
    {
     "data": {
      "text/plain": [
       "Sl. No.                     0\n",
       "State/UT                    0\n",
       "Total Number Of Sales       0\n",
       "No. of charging Stations    0\n",
       "dtype: int64"
      ]
     },
     "execution_count": 9,
     "metadata": {},
     "output_type": "execute_result"
    }
   ],
   "source": [
    "df.isnull().sum()"
   ]
  },
  {
   "cell_type": "code",
   "execution_count": 10,
   "id": "998d98b8",
   "metadata": {},
   "outputs": [
    {
     "data": {
      "text/html": [
       "<div>\n",
       "<style scoped>\n",
       "    .dataframe tbody tr th:only-of-type {\n",
       "        vertical-align: middle;\n",
       "    }\n",
       "\n",
       "    .dataframe tbody tr th {\n",
       "        vertical-align: top;\n",
       "    }\n",
       "\n",
       "    .dataframe thead th {\n",
       "        text-align: right;\n",
       "    }\n",
       "</style>\n",
       "<table border=\"1\" class=\"dataframe\">\n",
       "  <thead>\n",
       "    <tr style=\"text-align: right;\">\n",
       "      <th></th>\n",
       "      <th>Sl. No.</th>\n",
       "      <th>Total Number Of Sales</th>\n",
       "      <th>No. of charging Stations</th>\n",
       "    </tr>\n",
       "  </thead>\n",
       "  <tbody>\n",
       "    <tr>\n",
       "      <th>Sl. No.</th>\n",
       "      <td>1.00000</td>\n",
       "      <td>0.16051</td>\n",
       "      <td>0.23065</td>\n",
       "    </tr>\n",
       "    <tr>\n",
       "      <th>Total Number Of Sales</th>\n",
       "      <td>0.16051</td>\n",
       "      <td>1.00000</td>\n",
       "      <td>0.63003</td>\n",
       "    </tr>\n",
       "    <tr>\n",
       "      <th>No. of charging Stations</th>\n",
       "      <td>0.23065</td>\n",
       "      <td>0.63003</td>\n",
       "      <td>1.00000</td>\n",
       "    </tr>\n",
       "  </tbody>\n",
       "</table>\n",
       "</div>"
      ],
      "text/plain": [
       "                          Sl. No.  Total Number Of Sales  \\\n",
       "Sl. No.                   1.00000                0.16051   \n",
       "Total Number Of Sales     0.16051                1.00000   \n",
       "No. of charging Stations  0.23065                0.63003   \n",
       "\n",
       "                          No. of charging Stations  \n",
       "Sl. No.                                    0.23065  \n",
       "Total Number Of Sales                      0.63003  \n",
       "No. of charging Stations                   1.00000  "
      ]
     },
     "execution_count": 10,
     "metadata": {},
     "output_type": "execute_result"
    }
   ],
   "source": [
    "df.corr()"
   ]
  },
  {
   "cell_type": "code",
   "execution_count": 12,
   "id": "f84a20ba",
   "metadata": {},
   "outputs": [
    {
     "data": {
      "text/plain": [
       "<AxesSubplot:>"
      ]
     },
     "execution_count": 12,
     "metadata": {},
     "output_type": "execute_result"
    },
    {
     "data": {
      "image/png": "[encoded data removed]",
      "text/plain": [
       "<Figure size 432x288 with 2 Axes>"
      ]
     },
     "metadata": {
      "needs_background": "light"
     },
     "output_type": "display_data"
    }
   ],
   "source": [
    "sns.heatmap(df.corr(),cmap='BuGn',annot=True)"
   ]
  },
  {
   "cell_type": "code",
   "execution_count": 13,
   "id": "99df5455",
   "metadata": {},
   "outputs": [],
   "source": [
    "from sklearn.cluster import KMeans"
   ]
  },
  {
   "cell_type": "code",
   "execution_count": 17,
   "id": "f43429fe",
   "metadata": {},
   "outputs": [],
   "source": [
    "x = df.iloc[:,2:].values"
   ]
  },
  {
   "cell_type": "code",
   "execution_count": 18,
   "id": "dee9de45",
   "metadata": {},
   "outputs": [
    {
     "data": {
      "text/plain": [
       "array([[  437,    25],\n",
       "       [  241,    10],\n",
       "       [  764,     0],\n",
       "       [   48,    70],\n",
       "       [ 1057,    10],\n",
       "       [ 1477,    50],\n",
       "       [ 6413,    72],\n",
       "       [ 6721,   205],\n",
       "       [ 6022,   207],\n",
       "       [ 2615,    37],\n",
       "       [    0,    29],\n",
       "       [    0,     0],\n",
       "       [    0,     0],\n",
       "       [   78,     0],\n",
       "       [    0,     0],\n",
       "       [  538,     0],\n",
       "       [    6,    40],\n",
       "       [  407,    20],\n",
       "       [  771,   141],\n",
       "       [  817,     0],\n",
       "       [ 1671,    18],\n",
       "       [ 2055,    25],\n",
       "       [ 2953,   235],\n",
       "       [ 1554,   278],\n",
       "       [ 9393,   317],\n",
       "       [ 3325,   266],\n",
       "       [19270,   172],\n",
       "       [  241,     0],\n",
       "       [    4,     0],\n",
       "       [ 2068,   211],\n",
       "       [13515,   281],\n",
       "       [  138,    10],\n",
       "       [    2,    10],\n",
       "       [ 3031,   138],\n",
       "       [    0,     0],\n",
       "       [   27,     0]], dtype=int64)"
      ]
     },
     "execution_count": 18,
     "metadata": {},
     "output_type": "execute_result"
    }
   ],
   "source": [
    "x"
   ]
  },
  {
   "cell_type": "code",
   "execution_count": 19,
   "id": "adb0d148",
   "metadata": {},
   "outputs": [],
   "source": [
    "wcss = []\n",
    "k= np.arange(1,10)\n",
    "for i in k:\n",
    "    kmeans = KMeans(n_clusters=i, init='k-means++', random_state=45)\n",
    "    kmeans.fit(x)\n",
    "    wcss.append(kmeans.inertia_)\n",
    "\n",
    "\n"
   ]
  },
  {
   "cell_type": "code",
   "execution_count": 20,
   "id": "2af99c65",
   "metadata": {},
   "outputs": [
    {
     "data": {
      "image/png": "[encoded data removed]",
      "text/plain": [
       "<Figure size 1080x720 with 1 Axes>"
      ]
     },
     "metadata": {
      "needs_background": "light"
     },
     "output_type": "display_data"
    }
   ],
   "source": [
    "plt.figure(figsize=(15,10))\n",
    "plt.plot(k,wcss)\n",
    "plt.title(\"Elbow Method\")\n",
    "plt.xlabel(\"No. of Clusters(k)\")\n",
    "plt.ylabel(\"Sum of Squared Error(wcss)\")\n",
    "plt.show()\n"
   ]
  },
  {
   "cell_type": "code",
   "execution_count": 21,
   "id": "8fb4836e",
   "metadata": {},
   "outputs": [
    {
     "data": {
      "text/plain": [
       "array([0, 0, 0, 0, 0, 0, 2, 2, 2, 0, 0, 0, 0, 0, 0, 0, 0, 0, 0, 0, 0, 0,\n",
       "       0, 0, 2, 0, 1, 0, 0, 0, 1, 0, 0, 0, 0, 0])"
      ]
     },
     "execution_count": 21,
     "metadata": {},
     "output_type": "execute_result"
    }
   ],
   "source": [
    "#No. of clusters = 3\n",
    "kmeans = KMeans(n_clusters=3)\n",
    "x_predict = kmeans.fit_predict(x)\n",
    "x_predict\n",
    "\n"
   ]
  },
  {
   "cell_type": "code",
   "execution_count": 22,
   "id": "a0115d48",
   "metadata": {},
   "outputs": [
    {
     "data": {
      "text/html": [
       "<div>\n",
       "<style scoped>\n",
       "    .dataframe tbody tr th:only-of-type {\n",
       "        vertical-align: middle;\n",
       "    }\n",
       "\n",
       "    .dataframe tbody tr th {\n",
       "        vertical-align: top;\n",
       "    }\n",
       "\n",
       "    .dataframe thead th {\n",
       "        text-align: right;\n",
       "    }\n",
       "</style>\n",
       "<table border=\"1\" class=\"dataframe\">\n",
       "  <thead>\n",
       "    <tr style=\"text-align: right;\">\n",
       "      <th></th>\n",
       "      <th>Sl. No.</th>\n",
       "      <th>State/UT</th>\n",
       "      <th>Total Number Of Sales</th>\n",
       "      <th>No. of charging Stations</th>\n",
       "      <th>cluster</th>\n",
       "    </tr>\n",
       "  </thead>\n",
       "  <tbody>\n",
       "    <tr>\n",
       "      <th>0</th>\n",
       "      <td>1</td>\n",
       "      <td>Jammu Kashmir</td>\n",
       "      <td>437</td>\n",
       "      <td>25</td>\n",
       "      <td>0</td>\n",
       "    </tr>\n",
       "    <tr>\n",
       "      <th>1</th>\n",
       "      <td>2</td>\n",
       "      <td>Himachal Pradesh</td>\n",
       "      <td>241</td>\n",
       "      <td>10</td>\n",
       "      <td>0</td>\n",
       "    </tr>\n",
       "    <tr>\n",
       "      <th>2</th>\n",
       "      <td>3</td>\n",
       "      <td>Punjab</td>\n",
       "      <td>764</td>\n",
       "      <td>0</td>\n",
       "      <td>0</td>\n",
       "    </tr>\n",
       "    <tr>\n",
       "      <th>3</th>\n",
       "      <td>4</td>\n",
       "      <td>Chandigarh</td>\n",
       "      <td>48</td>\n",
       "      <td>70</td>\n",
       "      <td>0</td>\n",
       "    </tr>\n",
       "    <tr>\n",
       "      <th>4</th>\n",
       "      <td>5</td>\n",
       "      <td>Uttarakhand</td>\n",
       "      <td>1057</td>\n",
       "      <td>10</td>\n",
       "      <td>0</td>\n",
       "    </tr>\n",
       "    <tr>\n",
       "      <th>5</th>\n",
       "      <td>6</td>\n",
       "      <td>Haryana</td>\n",
       "      <td>1477</td>\n",
       "      <td>50</td>\n",
       "      <td>0</td>\n",
       "    </tr>\n",
       "    <tr>\n",
       "      <th>6</th>\n",
       "      <td>7</td>\n",
       "      <td>Delhi</td>\n",
       "      <td>6413</td>\n",
       "      <td>72</td>\n",
       "      <td>2</td>\n",
       "    </tr>\n",
       "    <tr>\n",
       "      <th>7</th>\n",
       "      <td>8</td>\n",
       "      <td>Rajasthan</td>\n",
       "      <td>6721</td>\n",
       "      <td>205</td>\n",
       "      <td>2</td>\n",
       "    </tr>\n",
       "    <tr>\n",
       "      <th>8</th>\n",
       "      <td>9</td>\n",
       "      <td>Uttar Pradesh</td>\n",
       "      <td>6022</td>\n",
       "      <td>207</td>\n",
       "      <td>2</td>\n",
       "    </tr>\n",
       "    <tr>\n",
       "      <th>9</th>\n",
       "      <td>10</td>\n",
       "      <td>Bihar</td>\n",
       "      <td>2615</td>\n",
       "      <td>37</td>\n",
       "      <td>0</td>\n",
       "    </tr>\n",
       "    <tr>\n",
       "      <th>10</th>\n",
       "      <td>11</td>\n",
       "      <td>Sikkim</td>\n",
       "      <td>0</td>\n",
       "      <td>29</td>\n",
       "      <td>0</td>\n",
       "    </tr>\n",
       "    <tr>\n",
       "      <th>11</th>\n",
       "      <td>12</td>\n",
       "      <td>Arunachal Pradesh</td>\n",
       "      <td>0</td>\n",
       "      <td>0</td>\n",
       "      <td>0</td>\n",
       "    </tr>\n",
       "    <tr>\n",
       "      <th>12</th>\n",
       "      <td>13</td>\n",
       "      <td>Nagaland</td>\n",
       "      <td>0</td>\n",
       "      <td>0</td>\n",
       "      <td>0</td>\n",
       "    </tr>\n",
       "    <tr>\n",
       "      <th>13</th>\n",
       "      <td>14</td>\n",
       "      <td>Manipur</td>\n",
       "      <td>78</td>\n",
       "      <td>0</td>\n",
       "      <td>0</td>\n",
       "    </tr>\n",
       "    <tr>\n",
       "      <th>14</th>\n",
       "      <td>15</td>\n",
       "      <td>Mizoram</td>\n",
       "      <td>0</td>\n",
       "      <td>0</td>\n",
       "      <td>0</td>\n",
       "    </tr>\n",
       "    <tr>\n",
       "      <th>15</th>\n",
       "      <td>16</td>\n",
       "      <td>Tripura</td>\n",
       "      <td>538</td>\n",
       "      <td>0</td>\n",
       "      <td>0</td>\n",
       "    </tr>\n",
       "    <tr>\n",
       "      <th>16</th>\n",
       "      <td>17</td>\n",
       "      <td>Meghalaya</td>\n",
       "      <td>6</td>\n",
       "      <td>40</td>\n",
       "      <td>0</td>\n",
       "    </tr>\n",
       "    <tr>\n",
       "      <th>17</th>\n",
       "      <td>18</td>\n",
       "      <td>Assam</td>\n",
       "      <td>407</td>\n",
       "      <td>20</td>\n",
       "      <td>0</td>\n",
       "    </tr>\n",
       "    <tr>\n",
       "      <th>18</th>\n",
       "      <td>19</td>\n",
       "      <td>West Bengal</td>\n",
       "      <td>771</td>\n",
       "      <td>141</td>\n",
       "      <td>0</td>\n",
       "    </tr>\n",
       "    <tr>\n",
       "      <th>19</th>\n",
       "      <td>20</td>\n",
       "      <td>Jharkhand</td>\n",
       "      <td>817</td>\n",
       "      <td>0</td>\n",
       "      <td>0</td>\n",
       "    </tr>\n",
       "    <tr>\n",
       "      <th>20</th>\n",
       "      <td>21</td>\n",
       "      <td>Odisha</td>\n",
       "      <td>1671</td>\n",
       "      <td>18</td>\n",
       "      <td>0</td>\n",
       "    </tr>\n",
       "    <tr>\n",
       "      <th>21</th>\n",
       "      <td>22</td>\n",
       "      <td>Chhattisgarh</td>\n",
       "      <td>2055</td>\n",
       "      <td>25</td>\n",
       "      <td>0</td>\n",
       "    </tr>\n",
       "    <tr>\n",
       "      <th>22</th>\n",
       "      <td>23</td>\n",
       "      <td>Madhya Pradesh</td>\n",
       "      <td>2953</td>\n",
       "      <td>235</td>\n",
       "      <td>0</td>\n",
       "    </tr>\n",
       "    <tr>\n",
       "      <th>23</th>\n",
       "      <td>24</td>\n",
       "      <td>Gujarat</td>\n",
       "      <td>1554</td>\n",
       "      <td>278</td>\n",
       "      <td>0</td>\n",
       "    </tr>\n",
       "    <tr>\n",
       "      <th>24</th>\n",
       "      <td>25</td>\n",
       "      <td>Maharashtra</td>\n",
       "      <td>9393</td>\n",
       "      <td>317</td>\n",
       "      <td>2</td>\n",
       "    </tr>\n",
       "    <tr>\n",
       "      <th>25</th>\n",
       "      <td>26</td>\n",
       "      <td>Andhra Pradesh</td>\n",
       "      <td>3325</td>\n",
       "      <td>266</td>\n",
       "      <td>0</td>\n",
       "    </tr>\n",
       "    <tr>\n",
       "      <th>26</th>\n",
       "      <td>27</td>\n",
       "      <td>Karnataka</td>\n",
       "      <td>19270</td>\n",
       "      <td>172</td>\n",
       "      <td>1</td>\n",
       "    </tr>\n",
       "    <tr>\n",
       "      <th>27</th>\n",
       "      <td>28</td>\n",
       "      <td>Goa</td>\n",
       "      <td>241</td>\n",
       "      <td>0</td>\n",
       "      <td>0</td>\n",
       "    </tr>\n",
       "    <tr>\n",
       "      <th>28</th>\n",
       "      <td>29</td>\n",
       "      <td>Lakshadweep</td>\n",
       "      <td>4</td>\n",
       "      <td>0</td>\n",
       "      <td>0</td>\n",
       "    </tr>\n",
       "    <tr>\n",
       "      <th>29</th>\n",
       "      <td>30</td>\n",
       "      <td>Kerala</td>\n",
       "      <td>2068</td>\n",
       "      <td>211</td>\n",
       "      <td>0</td>\n",
       "    </tr>\n",
       "    <tr>\n",
       "      <th>30</th>\n",
       "      <td>31</td>\n",
       "      <td>Tamilnadu</td>\n",
       "      <td>13515</td>\n",
       "      <td>281</td>\n",
       "      <td>1</td>\n",
       "    </tr>\n",
       "    <tr>\n",
       "      <th>31</th>\n",
       "      <td>32</td>\n",
       "      <td>Puducherry</td>\n",
       "      <td>138</td>\n",
       "      <td>10</td>\n",
       "      <td>0</td>\n",
       "    </tr>\n",
       "    <tr>\n",
       "      <th>32</th>\n",
       "      <td>33</td>\n",
       "      <td>Andaman and Nicobar Islands</td>\n",
       "      <td>2</td>\n",
       "      <td>10</td>\n",
       "      <td>0</td>\n",
       "    </tr>\n",
       "    <tr>\n",
       "      <th>33</th>\n",
       "      <td>34</td>\n",
       "      <td>Telangana</td>\n",
       "      <td>3031</td>\n",
       "      <td>138</td>\n",
       "      <td>0</td>\n",
       "    </tr>\n",
       "    <tr>\n",
       "      <th>34</th>\n",
       "      <td>35</td>\n",
       "      <td>Ladakh</td>\n",
       "      <td>0</td>\n",
       "      <td>0</td>\n",
       "      <td>0</td>\n",
       "    </tr>\n",
       "    <tr>\n",
       "      <th>35</th>\n",
       "      <td>36</td>\n",
       "      <td>The Dadra and Nagar Haveli and Daman and Diu</td>\n",
       "      <td>27</td>\n",
       "      <td>0</td>\n",
       "      <td>0</td>\n",
       "    </tr>\n",
       "  </tbody>\n",
       "</table>\n",
       "</div>"
      ],
      "text/plain": [
       "    Sl. No.                                      State/UT  \\\n",
       "0         1                                 Jammu Kashmir   \n",
       "1         2                              Himachal Pradesh   \n",
       "2         3                                        Punjab   \n",
       "3         4                                    Chandigarh   \n",
       "4         5                                   Uttarakhand   \n",
       "5         6                                       Haryana   \n",
       "6         7                                         Delhi   \n",
       "7         8                                     Rajasthan   \n",
       "8         9                                 Uttar Pradesh   \n",
       "9        10                                         Bihar   \n",
       "10       11                                        Sikkim   \n",
       "11       12                             Arunachal Pradesh   \n",
       "12       13                                      Nagaland   \n",
       "13       14                                       Manipur   \n",
       "14       15                                       Mizoram   \n",
       "15       16                                       Tripura   \n",
       "16       17                                     Meghalaya   \n",
       "17       18                                         Assam   \n",
       "18       19                                   West Bengal   \n",
       "19       20                                     Jharkhand   \n",
       "20       21                                        Odisha   \n",
       "21       22                                  Chhattisgarh   \n",
       "22       23                                Madhya Pradesh   \n",
       "23       24                                       Gujarat   \n",
       "24       25                                   Maharashtra   \n",
       "25       26                                Andhra Pradesh   \n",
       "26       27                                     Karnataka   \n",
       "27       28                                           Goa   \n",
       "28       29                                   Lakshadweep   \n",
       "29       30                                        Kerala   \n",
       "30       31                                     Tamilnadu   \n",
       "31       32                                    Puducherry   \n",
       "32       33                   Andaman and Nicobar Islands   \n",
       "33       34                                     Telangana   \n",
       "34       35                                        Ladakh   \n",
       "35       36  The Dadra and Nagar Haveli and Daman and Diu   \n",
       "\n",
       "    Total Number Of Sales  No. of charging Stations  cluster  \n",
       "0                     437                        25        0  \n",
       "1                     241                        10        0  \n",
       "2                     764                         0        0  \n",
       "3                      48                        70        0  \n",
       "4                    1057                        10        0  \n",
       "5                    1477                        50        0  \n",
       "6                    6413                        72        2  \n",
       "7                    6721                       205        2  \n",
       "8                    6022                       207        2  \n",
       "9                    2615                        37        0  \n",
       "10                      0                        29        0  \n",
       "11                      0                         0        0  \n",
       "12                      0                         0        0  \n",
       "13                     78                         0        0  \n",
       "14                      0                         0        0  \n",
       "15                    538                         0        0  \n",
       "16                      6                        40        0  \n",
       "17                    407                        20        0  \n",
       "18                    771                       141        0  \n",
       "19                    817                         0        0  \n",
       "20                   1671                        18        0  \n",
       "21                   2055                        25        0  \n",
       "22                   2953                       235        0  \n",
       "23                   1554                       278        0  \n",
       "24                   9393                       317        2  \n",
       "25                   3325                       266        0  \n",
       "26                  19270                       172        1  \n",
       "27                    241                         0        0  \n",
       "28                      4                         0        0  \n",
       "29                   2068                       211        0  \n",
       "30                  13515                       281        1  \n",
       "31                    138                        10        0  \n",
       "32                      2                        10        0  \n",
       "33                   3031                       138        0  \n",
       "34                      0                         0        0  \n",
       "35                     27                         0        0  "
      ]
     },
     "execution_count": 22,
     "metadata": {},
     "output_type": "execute_result"
    }
   ],
   "source": [
    "df['cluster'] = x_predict\n",
    "df"
   ]
  },
  {
   "cell_type": "code",
   "execution_count": 23,
   "id": "b5cb84a0",
   "metadata": {},
   "outputs": [
    {
     "data": {
      "text/plain": [
       "array([[  877.5 ,    54.1 ],\n",
       "       [16392.5 ,   226.5 ],\n",
       "       [ 7137.25,   200.25]])"
      ]
     },
     "execution_count": 23,
     "metadata": {},
     "output_type": "execute_result"
    }
   ],
   "source": [
    "kmeans.cluster_centers_"
   ]
  },
  {
   "cell_type": "code",
   "execution_count": 25,
   "id": "42057153",
   "metadata": {},
   "outputs": [
    {
     "data": {
      "text/plain": [
       "Index(['Sl. No.', 'State/UT', 'Total Number Of Sales',\n",
       "       'No. of charging Stations', 'cluster'],\n",
       "      dtype='object')"
      ]
     },
     "execution_count": 25,
     "metadata": {},
     "output_type": "execute_result"
    }
   ],
   "source": [
    "df.columns"
   ]
  },
  {
   "cell_type": "code",
   "execution_count": 42,
   "id": "d2cd2fb2",
   "metadata": {},
   "outputs": [
    {
     "data": {
      "image/png": "[encoded data removed]",
      "text/plain": [
       "<Figure size 1080x720 with 1 Axes>"
      ]
     },
     "metadata": {
      "needs_background": "light"
     },
     "output_type": "display_data"
    }
   ],
   "source": [
    "df1 = df[df.cluster==0]\n",
    "df2 = df[df.cluster==1]\n",
    "df3 = df[df.cluster==2]\n",
    "\n",
    "\n",
    "plt.figure(figsize=(15,10))\n",
    "plt.scatter(df1['Total Number Of Sales'],df1['No. of charging Stations'],color='cyan')\n",
    "plt.scatter(df2['Total Number Of Sales'],df2['No. of charging Stations'],color='blue')\n",
    "plt.scatter(df3['Total Number Of Sales'],df3['No. of charging Stations'],color='red')\n",
    "plt.scatter(kmeans.cluster_centers_[:,0],kmeans.cluster_centers_[:,1], s=100, color = 'black',marker='*',label='centroid')\n",
    "plt.legend()\n",
    "plt.show()\n",
    "\n",
    "\n"
   ]
  },
  {
   "cell_type": "code",
   "execution_count": null,
   "id": "b2140b60",
   "metadata": {},
   "outputs": [],
   "source": []
  }
 ],
 "metadata": {
  "kernelspec": {
   "display_name": "Python 3",
   "language": "python",
   "name": "python3"
  },
  "language_info": {
   "codemirror_mode": {
    "name": "ipython",
    "version": 3
   },
   "file_extension": ".py",
   "mimetype": "text/x-python",
   "name": "python",
   "nbconvert_exporter": "python",
   "pygments_lexer": "ipython3",
   "version": "3.8.8"
  }
 },
 "nbformat": 4,
 "nbformat_minor": 5
}
